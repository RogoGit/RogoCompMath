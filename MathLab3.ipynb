{
 "cells": [
  {
   "cell_type": "code",
   "execution_count": null,
   "metadata": {},
   "outputs": [],
   "source": []
  },
  {
   "cell_type": "code",
   "execution_count": 2,
   "metadata": {},
   "outputs": [
    {
     "name": "stdout",
     "output_type": "stream",
     "text": [
      "Данные из файла получены\n",
      "Введите значение аргумента, для которого вычисляется приближенное значение функции\n",
      "r\n",
      "Введите число!\n",
      "rt\n",
      "Введите число!\n",
      "ff\n",
      "Введите число!\n",
      "2\n"
     ]
    }
   ],
   "source": [
    "#main\n",
    "import numpy as nmp \n",
    "import math\n",
    "\n",
    "f3In = open('Lab3In.txt','r')\n",
    "inpOK = True\n",
    "try:\n",
    "    fileX_es = str(f3In.readline())\n",
    "    fileY_es = str(f3In.readline())\n",
    "    f3In.close()\n",
    "    x_arr = fileX_es.split()\n",
    "    y_arr = fileY_es.split()\n",
    "    x_list=nmp.asarray(list(map(float,x_arr)))\n",
    "    y_list=nmp.asarray(list(map(float,y_arr)))\n",
    "    if (len(x_list)!=len(y_list)):\n",
    "        print(\"В файле различное количество Х и Y!\")\n",
    "        inpOK = False\n",
    "except ValueError as e:\n",
    "    print(\"В файле должны быть числа!\")\n",
    "    inpOK = False\n",
    "    \n",
    "#######################\n",
    "\n",
    "if (inpOK):\n",
    "    print(\"Данные из файла получены\")\n",
    "    print(\"Введите значение аргумента, для которого вычисляется приближенное значение функции\")\n",
    "    while(True):\n",
    "        try:\n",
    "            arg = int(input())\n",
    "            break\n",
    "        except ValueError as e:\n",
    "            print(\"Введите число!\")\n",
    "    \n",
    "    \n",
    "    \n",
    "    \n",
    "    \n",
    "    "
   ]
  },
  {
   "cell_type": "code",
   "execution_count": null,
   "metadata": {},
   "outputs": [],
   "source": []
  }
 ],
 "metadata": {
  "kernelspec": {
   "display_name": "Python 3",
   "language": "python",
   "name": "python3"
  },
  "language_info": {
   "codemirror_mode": {
    "name": "ipython",
    "version": 3
   },
   "file_extension": ".py",
   "mimetype": "text/x-python",
   "name": "python",
   "nbconvert_exporter": "python",
   "pygments_lexer": "ipython3",
   "version": "3.5.2"
  }
 },
 "nbformat": 4,
 "nbformat_minor": 2
}
