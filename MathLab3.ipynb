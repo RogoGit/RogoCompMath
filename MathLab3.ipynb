{
 "cells": [
  {
   "cell_type": "code",
   "execution_count": 24,
   "metadata": {},
   "outputs": [],
   "source": [
    "#libs\n",
    "\n",
    "import numpy as nmp \n",
    "import math"
   ]
  },
  {
   "cell_type": "code",
   "execution_count": 23,
   "metadata": {},
   "outputs": [],
   "source": [
    "#Some Newton usefull functions\n",
    "\n",
    "def first_div_diff(x1,x0,y1,y0):\n",
    "    return (y1-y0)/(x1-x0)\n",
    "\n",
    "def second_div_diff(x2,x1,x0,y2,y1,y0):\n",
    "    return (first_div_diff(x2,x1,y2,y1)-first_div_diff(x1,x0,y1,y0))/(x2-x0)\n"
   ]
  },
  {
   "cell_type": "code",
   "execution_count": 40,
   "metadata": {},
   "outputs": [],
   "source": [
    "#interpolation functions\n",
    "\n",
    "def linear_interpol(arg,x_list,y_list):\n",
    "    for i in range(0,len(x_list)):\n",
    "        if (x_list[i] > arg):\n",
    "            ness_i = i\n",
    "            break\n",
    "    koef_A = (y_list[ness_i]-y_list[ness_i-1])/(x_list[ness_i]-x_list[ness_i-1])\n",
    "    koef_B = y_list[ness_i-1]-(koef_A*x_list[ness_i-1])\n",
    "    return (koef_A*arg + koef_B)\n",
    "\n",
    "\n",
    "def poli_interpol(arg,x_list,y_list):\n",
    "    for i in range(0,len(x_list)):\n",
    "        if (x_list[i] > arg):\n",
    "            ness_i = i\n",
    "            break\n",
    "    koefs = nmp.array([[x_list[ness_i-2]*x_list[ness_i-2],x_list[ness_i-2],1], \n",
    "                       [x_list[ness_i-1]*x_list[ness_i-1],x_list[ness_i-1],1], \n",
    "                       [x_list[ness_i]*x_list[ness_i],x_list[ness_i],1]])\n",
    "    \n",
    "    results = nmp.array([y_list[ness_i-2],y_list[ness_i-1],y_list[ness_i]])\n",
    "    ans = nmp.linalg.solve(koefs, results)\n",
    "    return (ans[0]*arg*arg+ans[1]*arg+ans[2])\n",
    "\n",
    "\n",
    "def Lagrange_interpol(arg,x_list,y_list):\n",
    "        res = 0\n",
    "        for i in range (0,len(x_list)):\n",
    "            numerator=1; denominator=1\n",
    "            for j in range(len(x_list)):\n",
    "                if i!=j:\n",
    "                    numerator*=(arg-x_list[j])\n",
    "                    denominator*=(x_list[i]-x_list[j])\n",
    "            res+=y_list[i]*(numerator/denominator)\n",
    "        return res\n",
    "\n",
    "    \n",
    "def NewTon_mixed(arg,x_list,y_list,starting_index):\n",
    "    first_pow_diff=first_div_diff(x_list[starting_index+1],x_list[starting_index],\n",
    "                                  y_list[starting_index+1],y_list[starting_index])\n",
    "    \n",
    "    second_pow_diff=second_div_diff(x_list[starting_index+2],x_list[starting_index+1],x_list[starting_index],\n",
    "                                    y_list[starting_index+2],y_list[starting_index+1],y_list[starting_index])\n",
    "    \n",
    "    return y_list[starting_index]+(arg-x_list[starting_index])* first_pow_diff +(arg-x_list[starting_index])*(arg-x_list[starting_index+1])*second_pow_diff\n",
    "    \n",
    "    "
   ]
  },
  {
   "cell_type": "code",
   "execution_count": 41,
   "metadata": {},
   "outputs": [
    {
     "name": "stdout",
     "output_type": "stream",
     "text": [
      "Данные из файла получены\n",
      "Введите значение аргумента, для которого вычисляется приближенное значение функции\n",
      "0.375\n",
      "Результат линейной интерполяции: 3.5849999999999995\n",
      "Результат квадратичной интерполяции: 3.587375\n",
      "Результат интерполяции с помощью многочлена Лагранжа: 3.449954980468748\n",
      "Результат интерполяции с помощью неравноотстоящих узлов (0,1,2): 3.6037625\n",
      "Результат интерполяции с помощью неравноотстоящих узлов (3,4,5): 2.7008124999999974\n"
     ]
    }
   ],
   "source": [
    "#main\n",
    "\n",
    "f3In = open('Lab3In.txt','r')\n",
    "inpOK = True\n",
    "try:\n",
    "    fileX_es = str(f3In.readline())\n",
    "    fileY_es = str(f3In.readline())\n",
    "    f3In.close()\n",
    "    x_arr = fileX_es.split()\n",
    "    y_arr = fileY_es.split()\n",
    "    x_list=nmp.asarray(list(map(float,x_arr)))\n",
    "    y_list=nmp.asarray(list(map(float,y_arr)))\n",
    "    if (len(x_list)!=len(y_list)):\n",
    "        print(\"В файле различное количество Х и Y!\")\n",
    "        inpOK = False\n",
    "except ValueError as e:\n",
    "    print(\"В файле должны быть числа!\")\n",
    "    inpOK = False\n",
    "    \n",
    "#######################\n",
    "\n",
    "if (inpOK):\n",
    "    print(\"Данные из файла получены\")\n",
    "    print(\"Введите значение аргумента, для которого вычисляется приближенное значение функции\")\n",
    "    while(True):\n",
    "        try:\n",
    "            arg = float(input())\n",
    "            break\n",
    "        except ValueError as e:\n",
    "            print(\"Введите число!\")\n",
    "    print(\"Результат линейной интерполяции: \" + str(linear_interpol(arg,x_list,y_list)))\n",
    "    print(\"Результат квадратичной интерполяции: \" + str(poli_interpol(arg,x_list,y_list)))\n",
    "    print(\"Результат интерполяции с помощью многочлена Лагранжа: \" + str(Lagrange_interpol(arg,x_list,y_list)))\n",
    "    print(\"Результат интерполяции с помощью неравноотстоящих узлов (0,1,2): \" + str(NewTon_mixed(arg,x_list,y_list,0)))\n",
    "    print(\"Результат интерполяции с помощью неравноотстоящих узлов (3,4,5): \" + str(NewTon_mixed(arg,x_list,y_list,3)))\n",
    "    \n",
    "    "
   ]
  },
  {
   "cell_type": "code",
   "execution_count": null,
   "metadata": {},
   "outputs": [],
   "source": []
  }
 ],
 "metadata": {
  "kernelspec": {
   "display_name": "Python 3",
   "language": "python",
   "name": "python3"
  },
  "language_info": {
   "codemirror_mode": {
    "name": "ipython",
    "version": 3
   },
   "file_extension": ".py",
   "mimetype": "text/x-python",
   "name": "python",
   "nbconvert_exporter": "python",
   "pygments_lexer": "ipython3",
   "version": "3.5.2"
  }
 },
 "nbformat": 4,
 "nbformat_minor": 2
}
