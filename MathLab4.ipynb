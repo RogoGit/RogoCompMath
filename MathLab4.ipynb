{
 "cells": [
  {
   "cell_type": "code",
   "execution_count": 6,
   "metadata": {},
   "outputs": [],
   "source": [
    "#function_pack\n",
    "\n",
    "def f1(x):\n",
    "    return (pow(x,3)+2*pow(x,2)-(5*x)+9)\n",
    "\n",
    "def f1_integr(k):\n",
    "    return ((pow(k,4)/4)+(2*(pow(k,3)/3))-(2.5*(k^2))+9*k)\n",
    "\n",
    "def f2(x):\n",
    "    return (2*(log(x))-7)\n",
    "\n",
    "def f2_integr(k):\n",
    "    return (2*k*(log(k)-1)-7*k)\n",
    "\n",
    "def f3(x):\n",
    "    return (sqrt(x)/(pow(x,2)))\n",
    "\n",
    "def f3_integr(k):\n",
    "    return ((-1)*(2/sqrt(k)))\n",
    "\n",
    "def f4(x):\n",
    "    return (pow(5,x)*3)\n",
    "\n",
    "def f4_integr(k):\n",
    "    return (3*(pow(5,k)/log(k)))"
   ]
  },
  {
   "cell_type": "code",
   "execution_count": null,
   "metadata": {},
   "outputs": [],
   "source": [
    "#methods"
   ]
  },
  {
   "cell_type": "code",
   "execution_count": 7,
   "metadata": {},
   "outputs": [
    {
     "name": "stdout",
     "output_type": "stream",
     "text": [
      "Выберите функцию для интегрирования\n",
      "1) f(x) = x^3 + 2*(x^2) - 5x + 9\n",
      "2) f(x) = 2 * ln(x) - 7)\n",
      "3) f(x) = (sqrt(x)) / x^2\n",
      "4) f(x) = 5^(x) * 3\n",
      "ва\n",
      "Введите целое число!\n",
      "Выберите функцию для интегрирования\n",
      "1) f(x) = x^3 + 2*(x^2) - 5x + 9\n",
      "2) f(x) = 2 * ln(x) - 7)\n",
      "3) f(x) = (sqrt(x)) / x^2\n",
      "4) f(x) = 5^(x) * 3\n",
      "1.3\n",
      "Введите целое число!\n",
      "Выберите функцию для интегрирования\n",
      "1) f(x) = x^3 + 2*(x^2) - 5x + 9\n",
      "2) f(x) = 2 * ln(x) - 7)\n",
      "3) f(x) = (sqrt(x)) / x^2\n",
      "4) f(x) = 5^(x) * 3\n",
      "8\n",
      "Нет такого варианта\n",
      "Выберите функцию для интегрирования\n",
      "1) f(x) = x^3 + 2*(x^2) - 5x + 9\n",
      "2) f(x) = 2 * ln(x) - 7)\n",
      "3) f(x) = (sqrt(x)) / x^2\n",
      "4) f(x) = 5^(x) * 3\n",
      "3\n"
     ]
    }
   ],
   "source": [
    "#main\n",
    "import math\n",
    "\n",
    "while(True):\n",
    "    print(\"Выберите функцию для интегрирования\")\n",
    "    print(\"1) f(x) = x^3 + 2*(x^2) - 5x + 9\")\n",
    "    print(\"2) f(x) = 2 * ln(x) - 7)\")\n",
    "    print(\"3) f(x) = (sqrt(x)) / x^2\")\n",
    "    print(\"4) f(x) = 5^(x) * 3\")\n",
    "    try:\n",
    "        ch = int(input())\n",
    "        if (ch == 1):\n",
    "            ness_func = f1\n",
    "            break\n",
    "        if (ch == 2):\n",
    "            ness_func = f2\n",
    "            break\n",
    "        if (ch == 3):\n",
    "            ness_func = f3\n",
    "            break\n",
    "        if (ch == 4):\n",
    "            ness_func = f4\n",
    "            break\n",
    "        print (\"Нет такого варианта\")\n",
    "    except ValueError as e:\n",
    "        print (\"Введите целое число!\")\n",
    "          \n"
   ]
  }
 ],
 "metadata": {
  "kernelspec": {
   "display_name": "Python 3",
   "language": "python",
   "name": "python3"
  },
  "language_info": {
   "codemirror_mode": {
    "name": "ipython",
    "version": 3
   },
   "file_extension": ".py",
   "mimetype": "text/x-python",
   "name": "python",
   "nbconvert_exporter": "python",
   "pygments_lexer": "ipython3",
   "version": "3.5.2"
  }
 },
 "nbformat": 4,
 "nbformat_minor": 2
}
